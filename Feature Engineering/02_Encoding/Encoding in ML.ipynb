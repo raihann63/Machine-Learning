{
 "cells": [
  {
   "cell_type": "code",
   "execution_count": 1,
   "id": "5a5ee705",
   "metadata": {
    "executionInfo": {
     "elapsed": 911,
     "status": "ok",
     "timestamp": 1729591258809,
     "user": {
      "displayName": "arman hossain",
      "userId": "09017361861022233771"
     },
     "user_tz": -360
    },
    "id": "5a5ee705"
   },
   "outputs": [],
   "source": [
    "import pandas as pd\n",
    "#ignore unnecessary warnings\n",
    "import warnings\n",
    "warnings.filterwarnings('ignore')"
   ]
  },
  {
   "cell_type": "code",
   "execution_count": 2,
   "id": "LrXt4qp1nR5s",
   "metadata": {
    "colab": {
     "base_uri": "https://localhost:8080/",
     "height": 329
    },
    "executionInfo": {
     "elapsed": 714,
     "status": "error",
     "timestamp": 1729591261934,
     "user": {
      "displayName": "arman hossain",
      "userId": "09017361861022233771"
     },
     "user_tz": -360
    },
    "id": "LrXt4qp1nR5s",
    "outputId": "6a22b5c5-f825-4895-8d89-2d27d875cdc8"
   },
   "outputs": [],
   "source": [
    "df = pd.read_csv('supershops.csv')"
   ]
  },
  {
   "cell_type": "code",
   "execution_count": 3,
   "id": "a01dd81c",
   "metadata": {
    "colab": {
     "base_uri": "https://localhost:8080/",
     "height": 206
    },
    "executionInfo": {
     "elapsed": 269,
     "status": "ok",
     "timestamp": 1728434714311,
     "user": {
      "displayName": "shariar nabil",
      "userId": "13055531375433852657"
     },
     "user_tz": -60
    },
    "id": "a01dd81c",
    "outputId": "61d8911f-349f-447c-bc29-bd069cd775ff"
   },
   "outputs": [
    {
     "data": {
      "text/html": [
       "<div>\n",
       "<style scoped>\n",
       "    .dataframe tbody tr th:only-of-type {\n",
       "        vertical-align: middle;\n",
       "    }\n",
       "\n",
       "    .dataframe tbody tr th {\n",
       "        vertical-align: top;\n",
       "    }\n",
       "\n",
       "    .dataframe thead th {\n",
       "        text-align: right;\n",
       "    }\n",
       "</style>\n",
       "<table border=\"1\" class=\"dataframe\">\n",
       "  <thead>\n",
       "    <tr style=\"text-align: right;\">\n",
       "      <th></th>\n",
       "      <th>Marketing Spend</th>\n",
       "      <th>Administration</th>\n",
       "      <th>Transport</th>\n",
       "      <th>Area</th>\n",
       "      <th>Profit</th>\n",
       "    </tr>\n",
       "  </thead>\n",
       "  <tbody>\n",
       "    <tr>\n",
       "      <th>0</th>\n",
       "      <td>114523.61</td>\n",
       "      <td>136897.80</td>\n",
       "      <td>471784.10</td>\n",
       "      <td>Dhaka</td>\n",
       "      <td>192261.83</td>\n",
       "    </tr>\n",
       "    <tr>\n",
       "      <th>1</th>\n",
       "      <td>162597.70</td>\n",
       "      <td>151377.59</td>\n",
       "      <td>443898.53</td>\n",
       "      <td>Ctg</td>\n",
       "      <td>191792.06</td>\n",
       "    </tr>\n",
       "    <tr>\n",
       "      <th>2</th>\n",
       "      <td>153441.51</td>\n",
       "      <td>101145.55</td>\n",
       "      <td>407934.54</td>\n",
       "      <td>Rangpur</td>\n",
       "      <td>191050.39</td>\n",
       "    </tr>\n",
       "    <tr>\n",
       "      <th>3</th>\n",
       "      <td>144372.41</td>\n",
       "      <td>118671.85</td>\n",
       "      <td>383199.62</td>\n",
       "      <td>Dhaka</td>\n",
       "      <td>182901.99</td>\n",
       "    </tr>\n",
       "    <tr>\n",
       "      <th>4</th>\n",
       "      <td>142107.34</td>\n",
       "      <td>91391.77</td>\n",
       "      <td>366168.42</td>\n",
       "      <td>Rangpur</td>\n",
       "      <td>166187.94</td>\n",
       "    </tr>\n",
       "  </tbody>\n",
       "</table>\n",
       "</div>"
      ],
      "text/plain": [
       "   Marketing Spend  Administration  Transport     Area     Profit\n",
       "0        114523.61       136897.80  471784.10    Dhaka  192261.83\n",
       "1        162597.70       151377.59  443898.53      Ctg  191792.06\n",
       "2        153441.51       101145.55  407934.54  Rangpur  191050.39\n",
       "3        144372.41       118671.85  383199.62    Dhaka  182901.99\n",
       "4        142107.34        91391.77  366168.42  Rangpur  166187.94"
      ]
     },
     "execution_count": 3,
     "metadata": {},
     "output_type": "execute_result"
    }
   ],
   "source": [
    "df.head()"
   ]
  },
  {
   "cell_type": "code",
   "execution_count": 4,
   "id": "7adfe22f",
   "metadata": {
    "id": "7adfe22f"
   },
   "outputs": [],
   "source": [
    "df1 = df.copy()\n",
    "df2 = df.copy()\n",
    "df3 = df.copy()\n",
    "df4 = df.copy()\n",
    "df5 = df.copy()\n",
    "df6 = df.copy()\n",
    "df7 = df.copy()\n",
    "df8 = df.copy()"
   ]
  },
  {
   "cell_type": "code",
   "execution_count": 6,
   "id": "bbbbdc44",
   "metadata": {},
   "outputs": [],
   "source": [
    "x=df.drop('Profit',axis=1)"
   ]
  },
  {
   "cell_type": "code",
   "execution_count": 7,
   "id": "d72b43e6",
   "metadata": {
    "colab": {
     "base_uri": "https://localhost:8080/",
     "height": 206
    },
    "executionInfo": {
     "elapsed": 200,
     "status": "ok",
     "timestamp": 1728333908769,
     "user": {
      "displayName": "Kamrul Hasan - SE",
      "userId": "17384571876487677959"
     },
     "user_tz": 240
    },
    "id": "d72b43e6",
    "outputId": "d31c316a-1fbd-4850-b6d0-145b69a2f2a3"
   },
   "outputs": [
    {
     "data": {
      "text/html": [
       "<div>\n",
       "<style scoped>\n",
       "    .dataframe tbody tr th:only-of-type {\n",
       "        vertical-align: middle;\n",
       "    }\n",
       "\n",
       "    .dataframe tbody tr th {\n",
       "        vertical-align: top;\n",
       "    }\n",
       "\n",
       "    .dataframe thead th {\n",
       "        text-align: right;\n",
       "    }\n",
       "</style>\n",
       "<table border=\"1\" class=\"dataframe\">\n",
       "  <thead>\n",
       "    <tr style=\"text-align: right;\">\n",
       "      <th></th>\n",
       "      <th>Marketing Spend</th>\n",
       "      <th>Administration</th>\n",
       "      <th>Transport</th>\n",
       "      <th>Area</th>\n",
       "    </tr>\n",
       "  </thead>\n",
       "  <tbody>\n",
       "    <tr>\n",
       "      <th>0</th>\n",
       "      <td>114523.61</td>\n",
       "      <td>136897.80</td>\n",
       "      <td>471784.10</td>\n",
       "      <td>Dhaka</td>\n",
       "    </tr>\n",
       "    <tr>\n",
       "      <th>1</th>\n",
       "      <td>162597.70</td>\n",
       "      <td>151377.59</td>\n",
       "      <td>443898.53</td>\n",
       "      <td>Ctg</td>\n",
       "    </tr>\n",
       "    <tr>\n",
       "      <th>2</th>\n",
       "      <td>153441.51</td>\n",
       "      <td>101145.55</td>\n",
       "      <td>407934.54</td>\n",
       "      <td>Rangpur</td>\n",
       "    </tr>\n",
       "    <tr>\n",
       "      <th>3</th>\n",
       "      <td>144372.41</td>\n",
       "      <td>118671.85</td>\n",
       "      <td>383199.62</td>\n",
       "      <td>Dhaka</td>\n",
       "    </tr>\n",
       "    <tr>\n",
       "      <th>4</th>\n",
       "      <td>142107.34</td>\n",
       "      <td>91391.77</td>\n",
       "      <td>366168.42</td>\n",
       "      <td>Rangpur</td>\n",
       "    </tr>\n",
       "  </tbody>\n",
       "</table>\n",
       "</div>"
      ],
      "text/plain": [
       "   Marketing Spend  Administration  Transport     Area\n",
       "0        114523.61       136897.80  471784.10    Dhaka\n",
       "1        162597.70       151377.59  443898.53      Ctg\n",
       "2        153441.51       101145.55  407934.54  Rangpur\n",
       "3        144372.41       118671.85  383199.62    Dhaka\n",
       "4        142107.34        91391.77  366168.42  Rangpur"
      ]
     },
     "execution_count": 7,
     "metadata": {},
     "output_type": "execute_result"
    }
   ],
   "source": [
    "x.head()"
   ]
  },
  {
   "cell_type": "code",
   "execution_count": 8,
   "id": "0226ce22",
   "metadata": {
    "id": "0226ce22"
   },
   "outputs": [],
   "source": [
    "y = df['Profit']"
   ]
  },
  {
   "cell_type": "code",
   "execution_count": 9,
   "id": "623ccd6f",
   "metadata": {
    "colab": {
     "base_uri": "https://localhost:8080/",
     "height": 241
    },
    "executionInfo": {
     "elapsed": 203,
     "status": "ok",
     "timestamp": 1728333917053,
     "user": {
      "displayName": "Kamrul Hasan - SE",
      "userId": "17384571876487677959"
     },
     "user_tz": 240
    },
    "id": "623ccd6f",
    "outputId": "acd58be5-e906-4a19-c6c1-510cac6ebc73"
   },
   "outputs": [
    {
     "data": {
      "text/plain": [
       "Marketing Spend    0\n",
       "Administration     0\n",
       "Transport          1\n",
       "Area               0\n",
       "Profit             0\n",
       "dtype: int64"
      ]
     },
     "execution_count": 9,
     "metadata": {},
     "output_type": "execute_result"
    }
   ],
   "source": [
    "df.isnull().sum() #checking null values"
   ]
  },
  {
   "cell_type": "code",
   "execution_count": 10,
   "id": "70804296",
   "metadata": {
    "id": "70804296"
   },
   "outputs": [],
   "source": [
    "#df.isnull()"
   ]
  },
  {
   "cell_type": "code",
   "execution_count": 11,
   "id": "62ed06e1",
   "metadata": {
    "colab": {
     "base_uri": "https://localhost:8080/"
    },
    "executionInfo": {
     "elapsed": 222,
     "status": "ok",
     "timestamp": 1728333926812,
     "user": {
      "displayName": "Kamrul Hasan - SE",
      "userId": "17384571876487677959"
     },
     "user_tz": 240
    },
    "id": "62ed06e1",
    "outputId": "434c6ff1-3b87-44fb-f415-04181b26d599"
   },
   "outputs": [
    {
     "name": "stdout",
     "output_type": "stream",
     "text": [
      "<class 'pandas.core.frame.DataFrame'>\n",
      "RangeIndex: 50 entries, 0 to 49\n",
      "Data columns (total 5 columns):\n",
      " #   Column           Non-Null Count  Dtype  \n",
      "---  ------           --------------  -----  \n",
      " 0   Marketing Spend  50 non-null     float64\n",
      " 1   Administration   50 non-null     float64\n",
      " 2   Transport        49 non-null     float64\n",
      " 3   Area             50 non-null     object \n",
      " 4   Profit           50 non-null     float64\n",
      "dtypes: float64(4), object(1)\n",
      "memory usage: 2.1+ KB\n"
     ]
    }
   ],
   "source": [
    "df.info()"
   ]
  },
  {
   "cell_type": "code",
   "execution_count": 12,
   "id": "822b7633",
   "metadata": {
    "id": "822b7633"
   },
   "outputs": [],
   "source": [
    "#df.isnull()"
   ]
  },
  {
   "cell_type": "code",
   "execution_count": 13,
   "id": "f35557fc",
   "metadata": {
    "colab": {
     "base_uri": "https://localhost:8080/",
     "height": 143
    },
    "executionInfo": {
     "elapsed": 204,
     "status": "ok",
     "timestamp": 1728333937707,
     "user": {
      "displayName": "Kamrul Hasan - SE",
      "userId": "17384571876487677959"
     },
     "user_tz": 240
    },
    "id": "f35557fc",
    "outputId": "2938af95-0761-4451-cb25-a879e2ea9aae"
   },
   "outputs": [
    {
     "data": {
      "text/html": [
       "<div>\n",
       "<style scoped>\n",
       "    .dataframe tbody tr th:only-of-type {\n",
       "        vertical-align: middle;\n",
       "    }\n",
       "\n",
       "    .dataframe tbody tr th {\n",
       "        vertical-align: top;\n",
       "    }\n",
       "\n",
       "    .dataframe thead th {\n",
       "        text-align: right;\n",
       "    }\n",
       "</style>\n",
       "<table border=\"1\" class=\"dataframe\">\n",
       "  <thead>\n",
       "    <tr style=\"text-align: right;\">\n",
       "      <th></th>\n",
       "      <th>Marketing Spend</th>\n",
       "      <th>Administration</th>\n",
       "      <th>Transport</th>\n",
       "      <th>Area</th>\n",
       "      <th>Profit</th>\n",
       "    </tr>\n",
       "  </thead>\n",
       "  <tbody>\n",
       "    <tr>\n",
       "      <th>18</th>\n",
       "      <td>91749.16</td>\n",
       "      <td>114175.79</td>\n",
       "      <td>294919.57</td>\n",
       "      <td>Rangpur</td>\n",
       "      <td>124266.90</td>\n",
       "    </tr>\n",
       "    <tr>\n",
       "      <th>19</th>\n",
       "      <td>86419.70</td>\n",
       "      <td>153514.11</td>\n",
       "      <td>NaN</td>\n",
       "      <td>Dhaka</td>\n",
       "      <td>122776.86</td>\n",
       "    </tr>\n",
       "    <tr>\n",
       "      <th>20</th>\n",
       "      <td>76253.86</td>\n",
       "      <td>113867.30</td>\n",
       "      <td>298664.47</td>\n",
       "      <td>Ctg</td>\n",
       "      <td>118474.03</td>\n",
       "    </tr>\n",
       "  </tbody>\n",
       "</table>\n",
       "</div>"
      ],
      "text/plain": [
       "    Marketing Spend  Administration  Transport     Area     Profit\n",
       "18         91749.16       114175.79  294919.57  Rangpur  124266.90\n",
       "19         86419.70       153514.11        NaN    Dhaka  122776.86\n",
       "20         76253.86       113867.30  298664.47      Ctg  118474.03"
      ]
     },
     "execution_count": 13,
     "metadata": {},
     "output_type": "execute_result"
    }
   ],
   "source": [
    "df[18:21] # to see the row from 18 to 20"
   ]
  },
  {
   "cell_type": "markdown",
   "id": "cee8b026",
   "metadata": {
    "id": "cee8b026"
   },
   "source": [
    "# Measure of Central Tendency"
   ]
  },
  {
   "cell_type": "code",
   "execution_count": 14,
   "id": "211771a9",
   "metadata": {
    "colab": {
     "base_uri": "https://localhost:8080/"
    },
    "executionInfo": {
     "elapsed": 3,
     "status": "ok",
     "timestamp": 1728333943198,
     "user": {
      "displayName": "Kamrul Hasan - SE",
      "userId": "17384571876487677959"
     },
     "user_tz": 240
    },
    "id": "211771a9",
    "outputId": "e9ce15b1-27ba-476d-b049-2d5994101cd1"
   },
   "outputs": [
    {
     "data": {
      "text/plain": [
       "215331.7324489796"
      ]
     },
     "execution_count": 14,
     "metadata": {},
     "output_type": "execute_result"
    }
   ],
   "source": [
    "df.Transport.mean() #no outliers"
   ]
  },
  {
   "cell_type": "code",
   "execution_count": 15,
   "id": "425321e6",
   "metadata": {
    "colab": {
     "base_uri": "https://localhost:8080/"
    },
    "executionInfo": {
     "elapsed": 171,
     "status": "ok",
     "timestamp": 1728333946808,
     "user": {
      "displayName": "Kamrul Hasan - SE",
      "userId": "17384571876487677959"
     },
     "user_tz": 240
    },
    "id": "425321e6",
    "outputId": "70161d09-18d3-408e-936d-94acad70159d"
   },
   "outputs": [
    {
     "data": {
      "text/plain": [
       "214634.81"
      ]
     },
     "execution_count": 15,
     "metadata": {},
     "output_type": "execute_result"
    }
   ],
   "source": [
    "df.Transport.median() #outliers exist"
   ]
  },
  {
   "cell_type": "code",
   "execution_count": 16,
   "id": "0b84e79c",
   "metadata": {
    "colab": {
     "base_uri": "https://localhost:8080/",
     "height": 467
    },
    "executionInfo": {
     "elapsed": 1468,
     "status": "ok",
     "timestamp": 1728333967729,
     "user": {
      "displayName": "Kamrul Hasan - SE",
      "userId": "17384571876487677959"
     },
     "user_tz": 240
    },
    "id": "0b84e79c",
    "outputId": "4fdeb33a-88ae-4762-de15-4ddac744bd16"
   },
   "outputs": [
    {
     "data": {
      "text/plain": [
       "<Axes: xlabel='Transport', ylabel='Count'>"
      ]
     },
     "execution_count": 16,
     "metadata": {},
     "output_type": "execute_result"
    },
    {
     "data": {
      "image/png": "[encoded data removed]",
      "text/plain": [
       "<Figure size 640x480 with 1 Axes>"
      ]
     },
     "metadata": {},
     "output_type": "display_data"
    }
   ],
   "source": [
    "import seaborn as sns\n",
    "sns.histplot(df.Transport)"
   ]
  },
  {
   "cell_type": "code",
   "execution_count": 17,
   "id": "c2d94aff",
   "metadata": {
    "colab": {
     "base_uri": "https://localhost:8080/"
    },
    "executionInfo": {
     "elapsed": 189,
     "status": "ok",
     "timestamp": 1728333976383,
     "user": {
      "displayName": "Kamrul Hasan - SE",
      "userId": "17384571876487677959"
     },
     "user_tz": 240
    },
    "id": "c2d94aff",
    "outputId": "fb4e6830-d97b-4af9-9592-e2321a490016"
   },
   "outputs": [
    {
     "data": {
      "text/plain": [
       "215331.7324489796"
      ]
     },
     "execution_count": 17,
     "metadata": {},
     "output_type": "execute_result"
    }
   ],
   "source": [
    "mean = df.Transport.mean()\n",
    "mean"
   ]
  },
  {
   "cell_type": "code",
   "execution_count": 18,
   "id": "532c566b",
   "metadata": {
    "colab": {
     "base_uri": "https://localhost:8080/",
     "height": 206
    },
    "executionInfo": {
     "elapsed": 209,
     "status": "ok",
     "timestamp": 1728333987126,
     "user": {
      "displayName": "Kamrul Hasan - SE",
      "userId": "17384571876487677959"
     },
     "user_tz": 240
    },
    "id": "532c566b",
    "outputId": "12c4127f-d4e7-4d59-a9ea-7a5b7b0096f3"
   },
   "outputs": [
    {
     "data": {
      "text/html": [
       "<div>\n",
       "<style scoped>\n",
       "    .dataframe tbody tr th:only-of-type {\n",
       "        vertical-align: middle;\n",
       "    }\n",
       "\n",
       "    .dataframe tbody tr th {\n",
       "        vertical-align: top;\n",
       "    }\n",
       "\n",
       "    .dataframe thead th {\n",
       "        text-align: right;\n",
       "    }\n",
       "</style>\n",
       "<table border=\"1\" class=\"dataframe\">\n",
       "  <thead>\n",
       "    <tr style=\"text-align: right;\">\n",
       "      <th></th>\n",
       "      <th>Marketing Spend</th>\n",
       "      <th>Administration</th>\n",
       "      <th>Transport</th>\n",
       "      <th>Area</th>\n",
       "      <th>Profit</th>\n",
       "    </tr>\n",
       "  </thead>\n",
       "  <tbody>\n",
       "    <tr>\n",
       "      <th>0</th>\n",
       "      <td>114523.61</td>\n",
       "      <td>136897.80</td>\n",
       "      <td>471784.10</td>\n",
       "      <td>Dhaka</td>\n",
       "      <td>192261.83</td>\n",
       "    </tr>\n",
       "    <tr>\n",
       "      <th>1</th>\n",
       "      <td>162597.70</td>\n",
       "      <td>151377.59</td>\n",
       "      <td>443898.53</td>\n",
       "      <td>Ctg</td>\n",
       "      <td>191792.06</td>\n",
       "    </tr>\n",
       "    <tr>\n",
       "      <th>2</th>\n",
       "      <td>153441.51</td>\n",
       "      <td>101145.55</td>\n",
       "      <td>407934.54</td>\n",
       "      <td>Rangpur</td>\n",
       "      <td>191050.39</td>\n",
       "    </tr>\n",
       "    <tr>\n",
       "      <th>3</th>\n",
       "      <td>144372.41</td>\n",
       "      <td>118671.85</td>\n",
       "      <td>383199.62</td>\n",
       "      <td>Dhaka</td>\n",
       "      <td>182901.99</td>\n",
       "    </tr>\n",
       "    <tr>\n",
       "      <th>4</th>\n",
       "      <td>142107.34</td>\n",
       "      <td>91391.77</td>\n",
       "      <td>366168.42</td>\n",
       "      <td>Rangpur</td>\n",
       "      <td>166187.94</td>\n",
       "    </tr>\n",
       "  </tbody>\n",
       "</table>\n",
       "</div>"
      ],
      "text/plain": [
       "   Marketing Spend  Administration  Transport     Area     Profit\n",
       "0        114523.61       136897.80  471784.10    Dhaka  192261.83\n",
       "1        162597.70       151377.59  443898.53      Ctg  191792.06\n",
       "2        153441.51       101145.55  407934.54  Rangpur  191050.39\n",
       "3        144372.41       118671.85  383199.62    Dhaka  182901.99\n",
       "4        142107.34        91391.77  366168.42  Rangpur  166187.94"
      ]
     },
     "execution_count": 18,
     "metadata": {},
     "output_type": "execute_result"
    }
   ],
   "source": [
    "df.Transport = df.Transport.fillna(mean)\n",
    "df.head()"
   ]
  },
  {
   "cell_type": "code",
   "execution_count": 19,
   "id": "dd320f30",
   "metadata": {
    "colab": {
     "base_uri": "https://localhost:8080/",
     "height": 241
    },
    "executionInfo": {
     "elapsed": 249,
     "status": "ok",
     "timestamp": 1728333991410,
     "user": {
      "displayName": "Kamrul Hasan - SE",
      "userId": "17384571876487677959"
     },
     "user_tz": 240
    },
    "id": "dd320f30",
    "outputId": "0121b904-87ee-4b51-b2fc-33f30e935134"
   },
   "outputs": [
    {
     "data": {
      "text/plain": [
       "Marketing Spend    0\n",
       "Administration     0\n",
       "Transport          0\n",
       "Area               0\n",
       "Profit             0\n",
       "dtype: int64"
      ]
     },
     "execution_count": 19,
     "metadata": {},
     "output_type": "execute_result"
    }
   ],
   "source": [
    "df.isnull().sum()"
   ]
  },
  {
   "cell_type": "code",
   "execution_count": 20,
   "id": "a483489a",
   "metadata": {
    "colab": {
     "base_uri": "https://localhost:8080/"
    },
    "executionInfo": {
     "elapsed": 178,
     "status": "ok",
     "timestamp": 1728333994872,
     "user": {
      "displayName": "Kamrul Hasan - SE",
      "userId": "17384571876487677959"
     },
     "user_tz": 240
    },
    "id": "a483489a",
    "outputId": "fedf054c-32d7-45d3-ba40-1dc351ba25d7"
   },
   "outputs": [
    {
     "data": {
      "text/plain": [
       "215331.7324489796"
      ]
     },
     "execution_count": 20,
     "metadata": {},
     "output_type": "execute_result"
    }
   ],
   "source": [
    "mean"
   ]
  },
  {
   "cell_type": "code",
   "execution_count": 21,
   "id": "4d5d48a4",
   "metadata": {
    "colab": {
     "base_uri": "https://localhost:8080/",
     "height": 143
    },
    "executionInfo": {
     "elapsed": 252,
     "status": "ok",
     "timestamp": 1728333997970,
     "user": {
      "displayName": "Kamrul Hasan - SE",
      "userId": "17384571876487677959"
     },
     "user_tz": 240
    },
    "id": "4d5d48a4",
    "outputId": "dc1470f4-e90e-4241-c356-2f6ba852f405"
   },
   "outputs": [
    {
     "data": {
      "text/html": [
       "<div>\n",
       "<style scoped>\n",
       "    .dataframe tbody tr th:only-of-type {\n",
       "        vertical-align: middle;\n",
       "    }\n",
       "\n",
       "    .dataframe tbody tr th {\n",
       "        vertical-align: top;\n",
       "    }\n",
       "\n",
       "    .dataframe thead th {\n",
       "        text-align: right;\n",
       "    }\n",
       "</style>\n",
       "<table border=\"1\" class=\"dataframe\">\n",
       "  <thead>\n",
       "    <tr style=\"text-align: right;\">\n",
       "      <th></th>\n",
       "      <th>Marketing Spend</th>\n",
       "      <th>Administration</th>\n",
       "      <th>Transport</th>\n",
       "      <th>Area</th>\n",
       "      <th>Profit</th>\n",
       "    </tr>\n",
       "  </thead>\n",
       "  <tbody>\n",
       "    <tr>\n",
       "      <th>18</th>\n",
       "      <td>91749.16</td>\n",
       "      <td>114175.79</td>\n",
       "      <td>294919.570000</td>\n",
       "      <td>Rangpur</td>\n",
       "      <td>124266.90</td>\n",
       "    </tr>\n",
       "    <tr>\n",
       "      <th>19</th>\n",
       "      <td>86419.70</td>\n",
       "      <td>153514.11</td>\n",
       "      <td>215331.732449</td>\n",
       "      <td>Dhaka</td>\n",
       "      <td>122776.86</td>\n",
       "    </tr>\n",
       "    <tr>\n",
       "      <th>20</th>\n",
       "      <td>76253.86</td>\n",
       "      <td>113867.30</td>\n",
       "      <td>298664.470000</td>\n",
       "      <td>Ctg</td>\n",
       "      <td>118474.03</td>\n",
       "    </tr>\n",
       "  </tbody>\n",
       "</table>\n",
       "</div>"
      ],
      "text/plain": [
       "    Marketing Spend  Administration      Transport     Area     Profit\n",
       "18         91749.16       114175.79  294919.570000  Rangpur  124266.90\n",
       "19         86419.70       153514.11  215331.732449    Dhaka  122776.86\n",
       "20         76253.86       113867.30  298664.470000      Ctg  118474.03"
      ]
     },
     "execution_count": 21,
     "metadata": {},
     "output_type": "execute_result"
    }
   ],
   "source": [
    "df[18:21]"
   ]
  },
  {
   "cell_type": "markdown",
   "id": "b810c4f4",
   "metadata": {
    "id": "b810c4f4"
   },
   "source": [
    "# Sklearn Preprocessing"
   ]
  },
  {
   "cell_type": "markdown",
   "id": "cd36cd92",
   "metadata": {
    "id": "cd36cd92"
   },
   "source": [
    "Read sklearn: [Docs](https://scikit-learn.org/stable/modules/preprocessing.html)"
   ]
  },
  {
   "cell_type": "markdown",
   "id": "09b25839",
   "metadata": {
    "id": "09b25839"
   },
   "source": [
    "### Some common encoding techniques in machine learning:\n",
    "\n",
    "1. Label Encoding <br>\n",
    "2. One-Hot Encoding <br>\n",
    "3. Binary Encoding <br>\n",
    "4. Ordinal Encoding <br>\n",
    "5. Frequency Encoding <br>\n",
    "6. Mean Encoding <br>\n",
    "7. Text Embedding <br>"
   ]
  },
  {
   "cell_type": "markdown",
   "id": "e5500c23",
   "metadata": {
    "id": "e5500c23"
   },
   "source": [
    "# Label Encoding\n",
    "\n",
    "Label encoding is a technique used to convert categorical data into numerical labels. Each unique category value is assigned a unique integer. This method is useful when the categorical feature does not have an inherent order and you need to convert the categories to numerical values for machine learning algorithms that can handle categorical variables as numbers.\n",
    "\n",
    "## When to Use Label Encoding\n",
    "\n",
    "Label encoding is appropriate when:\n",
    "- The categorical feature does not have a meaningful order.\n",
    "- You want to convert categorical values to unique integers for algorithms that can work with numerical labels.\n",
    "\n",
    "## Steps to Perform Label Encoding\n",
    "\n",
    "1. **Identify unique categories in the feature.**\n",
    "2. **Assign a unique integer to each category.**"
   ]
  },
  {
   "cell_type": "code",
   "execution_count": 22,
   "id": "123888e3",
   "metadata": {
    "colab": {
     "base_uri": "https://localhost:8080/",
     "height": 206
    },
    "executionInfo": {
     "elapsed": 249,
     "status": "ok",
     "timestamp": 1728334008456,
     "user": {
      "displayName": "Kamrul Hasan - SE",
      "userId": "17384571876487677959"
     },
     "user_tz": 240
    },
    "id": "123888e3",
    "outputId": "c67f0c7b-1de7-49cb-93f1-6508438a54b7"
   },
   "outputs": [
    {
     "data": {
      "text/html": [
       "<div>\n",
       "<style scoped>\n",
       "    .dataframe tbody tr th:only-of-type {\n",
       "        vertical-align: middle;\n",
       "    }\n",
       "\n",
       "    .dataframe tbody tr th {\n",
       "        vertical-align: top;\n",
       "    }\n",
       "\n",
       "    .dataframe thead th {\n",
       "        text-align: right;\n",
       "    }\n",
       "</style>\n",
       "<table border=\"1\" class=\"dataframe\">\n",
       "  <thead>\n",
       "    <tr style=\"text-align: right;\">\n",
       "      <th></th>\n",
       "      <th>Marketing Spend</th>\n",
       "      <th>Administration</th>\n",
       "      <th>Transport</th>\n",
       "      <th>Area</th>\n",
       "      <th>Profit</th>\n",
       "    </tr>\n",
       "  </thead>\n",
       "  <tbody>\n",
       "    <tr>\n",
       "      <th>0</th>\n",
       "      <td>114523.61</td>\n",
       "      <td>136897.80</td>\n",
       "      <td>471784.10</td>\n",
       "      <td>Dhaka</td>\n",
       "      <td>192261.83</td>\n",
       "    </tr>\n",
       "    <tr>\n",
       "      <th>1</th>\n",
       "      <td>162597.70</td>\n",
       "      <td>151377.59</td>\n",
       "      <td>443898.53</td>\n",
       "      <td>Ctg</td>\n",
       "      <td>191792.06</td>\n",
       "    </tr>\n",
       "    <tr>\n",
       "      <th>2</th>\n",
       "      <td>153441.51</td>\n",
       "      <td>101145.55</td>\n",
       "      <td>407934.54</td>\n",
       "      <td>Rangpur</td>\n",
       "      <td>191050.39</td>\n",
       "    </tr>\n",
       "    <tr>\n",
       "      <th>3</th>\n",
       "      <td>144372.41</td>\n",
       "      <td>118671.85</td>\n",
       "      <td>383199.62</td>\n",
       "      <td>Dhaka</td>\n",
       "      <td>182901.99</td>\n",
       "    </tr>\n",
       "    <tr>\n",
       "      <th>4</th>\n",
       "      <td>142107.34</td>\n",
       "      <td>91391.77</td>\n",
       "      <td>366168.42</td>\n",
       "      <td>Rangpur</td>\n",
       "      <td>166187.94</td>\n",
       "    </tr>\n",
       "  </tbody>\n",
       "</table>\n",
       "</div>"
      ],
      "text/plain": [
       "   Marketing Spend  Administration  Transport     Area     Profit\n",
       "0        114523.61       136897.80  471784.10    Dhaka  192261.83\n",
       "1        162597.70       151377.59  443898.53      Ctg  191792.06\n",
       "2        153441.51       101145.55  407934.54  Rangpur  191050.39\n",
       "3        144372.41       118671.85  383199.62    Dhaka  182901.99\n",
       "4        142107.34        91391.77  366168.42  Rangpur  166187.94"
      ]
     },
     "execution_count": 22,
     "metadata": {},
     "output_type": "execute_result"
    }
   ],
   "source": [
    "df.head()"
   ]
  },
  {
   "cell_type": "code",
   "execution_count": 23,
   "id": "988c52b1",
   "metadata": {
    "id": "988c52b1"
   },
   "outputs": [],
   "source": [
    "from sklearn.preprocessing import LabelEncoder"
   ]
  },
  {
   "cell_type": "code",
   "execution_count": 24,
   "id": "66c88353",
   "metadata": {
    "id": "66c88353"
   },
   "outputs": [],
   "source": [
    "le = LabelEncoder()"
   ]
  },
  {
   "cell_type": "markdown",
   "id": "7226401b",
   "metadata": {
    "id": "7226401b"
   },
   "source": [
    "Watch it: [fit Vs. transform](https://youtu.be/0T3MpmbAHXg)"
   ]
  },
  {
   "cell_type": "code",
   "execution_count": 25,
   "id": "58cc3b07",
   "metadata": {
    "id": "58cc3b07"
   },
   "outputs": [],
   "source": [
    "df1.Area = le.fit_transform(df[['Area']])"
   ]
  },
  {
   "cell_type": "code",
   "execution_count": 26,
   "id": "ddc63031",
   "metadata": {
    "colab": {
     "base_uri": "https://localhost:8080/",
     "height": 206
    },
    "executionInfo": {
     "elapsed": 196,
     "status": "ok",
     "timestamp": 1728334093429,
     "user": {
      "displayName": "Kamrul Hasan - SE",
      "userId": "17384571876487677959"
     },
     "user_tz": 240
    },
    "id": "ddc63031",
    "outputId": "a7ef84d3-a3c2-4947-d4c6-7505928e63fe"
   },
   "outputs": [
    {
     "data": {
      "text/html": [
       "<div>\n",
       "<style scoped>\n",
       "    .dataframe tbody tr th:only-of-type {\n",
       "        vertical-align: middle;\n",
       "    }\n",
       "\n",
       "    .dataframe tbody tr th {\n",
       "        vertical-align: top;\n",
       "    }\n",
       "\n",
       "    .dataframe thead th {\n",
       "        text-align: right;\n",
       "    }\n",
       "</style>\n",
       "<table border=\"1\" class=\"dataframe\">\n",
       "  <thead>\n",
       "    <tr style=\"text-align: right;\">\n",
       "      <th></th>\n",
       "      <th>Marketing Spend</th>\n",
       "      <th>Administration</th>\n",
       "      <th>Transport</th>\n",
       "      <th>Area</th>\n",
       "      <th>Profit</th>\n",
       "    </tr>\n",
       "  </thead>\n",
       "  <tbody>\n",
       "    <tr>\n",
       "      <th>0</th>\n",
       "      <td>114523.61</td>\n",
       "      <td>136897.80</td>\n",
       "      <td>471784.10</td>\n",
       "      <td>1</td>\n",
       "      <td>192261.83</td>\n",
       "    </tr>\n",
       "    <tr>\n",
       "      <th>1</th>\n",
       "      <td>162597.70</td>\n",
       "      <td>151377.59</td>\n",
       "      <td>443898.53</td>\n",
       "      <td>0</td>\n",
       "      <td>191792.06</td>\n",
       "    </tr>\n",
       "    <tr>\n",
       "      <th>2</th>\n",
       "      <td>153441.51</td>\n",
       "      <td>101145.55</td>\n",
       "      <td>407934.54</td>\n",
       "      <td>2</td>\n",
       "      <td>191050.39</td>\n",
       "    </tr>\n",
       "    <tr>\n",
       "      <th>3</th>\n",
       "      <td>144372.41</td>\n",
       "      <td>118671.85</td>\n",
       "      <td>383199.62</td>\n",
       "      <td>1</td>\n",
       "      <td>182901.99</td>\n",
       "    </tr>\n",
       "    <tr>\n",
       "      <th>4</th>\n",
       "      <td>142107.34</td>\n",
       "      <td>91391.77</td>\n",
       "      <td>366168.42</td>\n",
       "      <td>2</td>\n",
       "      <td>166187.94</td>\n",
       "    </tr>\n",
       "  </tbody>\n",
       "</table>\n",
       "</div>"
      ],
      "text/plain": [
       "   Marketing Spend  Administration  Transport  Area     Profit\n",
       "0        114523.61       136897.80  471784.10     1  192261.83\n",
       "1        162597.70       151377.59  443898.53     0  191792.06\n",
       "2        153441.51       101145.55  407934.54     2  191050.39\n",
       "3        144372.41       118671.85  383199.62     1  182901.99\n",
       "4        142107.34        91391.77  366168.42     2  166187.94"
      ]
     },
     "execution_count": 26,
     "metadata": {},
     "output_type": "execute_result"
    }
   ],
   "source": [
    "df1.head()"
   ]
  },
  {
   "cell_type": "code",
   "execution_count": 27,
   "id": "1d8ddcb1",
   "metadata": {
    "colab": {
     "base_uri": "https://localhost:8080/"
    },
    "executionInfo": {
     "elapsed": 199,
     "status": "ok",
     "timestamp": 1728334110756,
     "user": {
      "displayName": "Kamrul Hasan - SE",
      "userId": "17384571876487677959"
     },
     "user_tz": 240
    },
    "id": "1d8ddcb1",
    "outputId": "b995e965-c152-4a3e-8a91-0734387b2c1e"
   },
   "outputs": [
    {
     "data": {
      "text/plain": [
       "array(['Ctg', 'Dhaka', 'Rangpur'], dtype=object)"
      ]
     },
     "execution_count": 27,
     "metadata": {},
     "output_type": "execute_result"
    }
   ],
   "source": [
    "le.classes_"
   ]
  },
  {
   "cell_type": "code",
   "execution_count": 28,
   "id": "aac0a22a",
   "metadata": {
    "colab": {
     "base_uri": "https://localhost:8080/"
    },
    "executionInfo": {
     "elapsed": 175,
     "status": "ok",
     "timestamp": 1728334118023,
     "user": {
      "displayName": "Kamrul Hasan - SE",
      "userId": "17384571876487677959"
     },
     "user_tz": 240
    },
    "id": "aac0a22a",
    "outputId": "ae91173d-7e1e-4cba-b789-d4c22ef58a3a"
   },
   "outputs": [
    {
     "data": {
      "text/plain": [
       "array([0, 1, 2])"
      ]
     },
     "execution_count": 28,
     "metadata": {},
     "output_type": "execute_result"
    }
   ],
   "source": [
    "le.transform(le.classes_)"
   ]
  },
  {
   "cell_type": "markdown",
   "id": "561df9bc",
   "metadata": {
    "id": "561df9bc"
   },
   "source": [
    "# Decode the encoded values back to original classes"
   ]
  },
  {
   "cell_type": "code",
   "execution_count": 29,
   "id": "eafd2436",
   "metadata": {
    "colab": {
     "base_uri": "https://localhost:8080/"
    },
    "executionInfo": {
     "elapsed": 174,
     "status": "ok",
     "timestamp": 1728334132693,
     "user": {
      "displayName": "Kamrul Hasan - SE",
      "userId": "17384571876487677959"
     },
     "user_tz": 240
    },
    "id": "eafd2436",
    "outputId": "b53d17ec-28fc-45a7-8d87-b5c81f65fee7"
   },
   "outputs": [
    {
     "data": {
      "text/plain": [
       "array(['Dhaka', 'Ctg', 'Rangpur', 'Dhaka', 'Rangpur', 'Dhaka', 'Ctg',\n",
       "       'Rangpur', 'Dhaka', 'Ctg', 'Rangpur', 'Ctg', 'Rangpur', 'Ctg',\n",
       "       'Rangpur', 'Dhaka', 'Ctg', 'Dhaka', 'Rangpur', 'Dhaka', 'Ctg',\n",
       "       'Dhaka', 'Rangpur', 'Rangpur', 'Dhaka', 'Ctg', 'Rangpur', 'Dhaka',\n",
       "       'Rangpur', 'Dhaka', 'Rangpur', 'Dhaka', 'Ctg', 'Rangpur', 'Ctg',\n",
       "       'Dhaka', 'Rangpur', 'Ctg', 'Dhaka', 'Ctg', 'Ctg', 'Rangpur', 'Ctg',\n",
       "       'Dhaka', 'Ctg', 'Dhaka', 'Rangpur', 'Ctg', 'Dhaka', 'Ctg'],\n",
       "      dtype=object)"
      ]
     },
     "execution_count": 29,
     "metadata": {},
     "output_type": "execute_result"
    }
   ],
   "source": [
    "#df.Area = decoded_classes = le.inverse_transform(df1.Area)\n",
    "decoded_classes = le.inverse_transform(df1.Area)\n",
    "decoded_classes"
   ]
  },
  {
   "cell_type": "code",
   "execution_count": 30,
   "id": "75eb8c15",
   "metadata": {
    "colab": {
     "base_uri": "https://localhost:8080/",
     "height": 206
    },
    "executionInfo": {
     "elapsed": 204,
     "status": "ok",
     "timestamp": 1728334136606,
     "user": {
      "displayName": "Kamrul Hasan - SE",
      "userId": "17384571876487677959"
     },
     "user_tz": 240
    },
    "id": "75eb8c15",
    "outputId": "e1834a3a-4f5f-449f-b0f9-7535813d0632"
   },
   "outputs": [
    {
     "data": {
      "text/html": [
       "<div>\n",
       "<style scoped>\n",
       "    .dataframe tbody tr th:only-of-type {\n",
       "        vertical-align: middle;\n",
       "    }\n",
       "\n",
       "    .dataframe tbody tr th {\n",
       "        vertical-align: top;\n",
       "    }\n",
       "\n",
       "    .dataframe thead th {\n",
       "        text-align: right;\n",
       "    }\n",
       "</style>\n",
       "<table border=\"1\" class=\"dataframe\">\n",
       "  <thead>\n",
       "    <tr style=\"text-align: right;\">\n",
       "      <th></th>\n",
       "      <th>Marketing Spend</th>\n",
       "      <th>Administration</th>\n",
       "      <th>Transport</th>\n",
       "      <th>Area</th>\n",
       "      <th>Profit</th>\n",
       "    </tr>\n",
       "  </thead>\n",
       "  <tbody>\n",
       "    <tr>\n",
       "      <th>0</th>\n",
       "      <td>114523.61</td>\n",
       "      <td>136897.80</td>\n",
       "      <td>471784.10</td>\n",
       "      <td>1</td>\n",
       "      <td>192261.83</td>\n",
       "    </tr>\n",
       "    <tr>\n",
       "      <th>1</th>\n",
       "      <td>162597.70</td>\n",
       "      <td>151377.59</td>\n",
       "      <td>443898.53</td>\n",
       "      <td>0</td>\n",
       "      <td>191792.06</td>\n",
       "    </tr>\n",
       "    <tr>\n",
       "      <th>2</th>\n",
       "      <td>153441.51</td>\n",
       "      <td>101145.55</td>\n",
       "      <td>407934.54</td>\n",
       "      <td>2</td>\n",
       "      <td>191050.39</td>\n",
       "    </tr>\n",
       "    <tr>\n",
       "      <th>3</th>\n",
       "      <td>144372.41</td>\n",
       "      <td>118671.85</td>\n",
       "      <td>383199.62</td>\n",
       "      <td>1</td>\n",
       "      <td>182901.99</td>\n",
       "    </tr>\n",
       "    <tr>\n",
       "      <th>4</th>\n",
       "      <td>142107.34</td>\n",
       "      <td>91391.77</td>\n",
       "      <td>366168.42</td>\n",
       "      <td>2</td>\n",
       "      <td>166187.94</td>\n",
       "    </tr>\n",
       "  </tbody>\n",
       "</table>\n",
       "</div>"
      ],
      "text/plain": [
       "   Marketing Spend  Administration  Transport  Area     Profit\n",
       "0        114523.61       136897.80  471784.10     1  192261.83\n",
       "1        162597.70       151377.59  443898.53     0  191792.06\n",
       "2        153441.51       101145.55  407934.54     2  191050.39\n",
       "3        144372.41       118671.85  383199.62     1  182901.99\n",
       "4        142107.34        91391.77  366168.42     2  166187.94"
      ]
     },
     "execution_count": 30,
     "metadata": {},
     "output_type": "execute_result"
    }
   ],
   "source": [
    "df1.head()"
   ]
  },
  {
   "cell_type": "code",
   "execution_count": 31,
   "id": "b9f799de",
   "metadata": {
    "colab": {
     "base_uri": "https://localhost:8080/",
     "height": 206
    },
    "executionInfo": {
     "elapsed": 203,
     "status": "ok",
     "timestamp": 1728334162306,
     "user": {
      "displayName": "Kamrul Hasan - SE",
      "userId": "17384571876487677959"
     },
     "user_tz": 240
    },
    "id": "b9f799de",
    "outputId": "8a9b8995-65cd-498b-eb29-a5e6dd89728e"
   },
   "outputs": [
    {
     "data": {
      "text/html": [
       "<div>\n",
       "<style scoped>\n",
       "    .dataframe tbody tr th:only-of-type {\n",
       "        vertical-align: middle;\n",
       "    }\n",
       "\n",
       "    .dataframe tbody tr th {\n",
       "        vertical-align: top;\n",
       "    }\n",
       "\n",
       "    .dataframe thead th {\n",
       "        text-align: right;\n",
       "    }\n",
       "</style>\n",
       "<table border=\"1\" class=\"dataframe\">\n",
       "  <thead>\n",
       "    <tr style=\"text-align: right;\">\n",
       "      <th></th>\n",
       "      <th>Marketing Spend</th>\n",
       "      <th>Administration</th>\n",
       "      <th>Transport</th>\n",
       "      <th>Area</th>\n",
       "      <th>Profit</th>\n",
       "    </tr>\n",
       "  </thead>\n",
       "  <tbody>\n",
       "    <tr>\n",
       "      <th>0</th>\n",
       "      <td>114523.61</td>\n",
       "      <td>136897.80</td>\n",
       "      <td>471784.10</td>\n",
       "      <td>Dhaka</td>\n",
       "      <td>192261.83</td>\n",
       "    </tr>\n",
       "    <tr>\n",
       "      <th>1</th>\n",
       "      <td>162597.70</td>\n",
       "      <td>151377.59</td>\n",
       "      <td>443898.53</td>\n",
       "      <td>Ctg</td>\n",
       "      <td>191792.06</td>\n",
       "    </tr>\n",
       "    <tr>\n",
       "      <th>2</th>\n",
       "      <td>153441.51</td>\n",
       "      <td>101145.55</td>\n",
       "      <td>407934.54</td>\n",
       "      <td>Rangpur</td>\n",
       "      <td>191050.39</td>\n",
       "    </tr>\n",
       "    <tr>\n",
       "      <th>3</th>\n",
       "      <td>144372.41</td>\n",
       "      <td>118671.85</td>\n",
       "      <td>383199.62</td>\n",
       "      <td>Dhaka</td>\n",
       "      <td>182901.99</td>\n",
       "    </tr>\n",
       "    <tr>\n",
       "      <th>4</th>\n",
       "      <td>142107.34</td>\n",
       "      <td>91391.77</td>\n",
       "      <td>366168.42</td>\n",
       "      <td>Rangpur</td>\n",
       "      <td>166187.94</td>\n",
       "    </tr>\n",
       "  </tbody>\n",
       "</table>\n",
       "</div>"
      ],
      "text/plain": [
       "   Marketing Spend  Administration  Transport     Area     Profit\n",
       "0        114523.61       136897.80  471784.10    Dhaka  192261.83\n",
       "1        162597.70       151377.59  443898.53      Ctg  191792.06\n",
       "2        153441.51       101145.55  407934.54  Rangpur  191050.39\n",
       "3        144372.41       118671.85  383199.62    Dhaka  182901.99\n",
       "4        142107.34        91391.77  366168.42  Rangpur  166187.94"
      ]
     },
     "execution_count": 31,
     "metadata": {},
     "output_type": "execute_result"
    }
   ],
   "source": [
    "#After decoding\n",
    "df1.Area = decoded_classes\n",
    "df1.head()"
   ]
  },
  {
   "cell_type": "markdown",
   "id": "bca08df6",
   "metadata": {
    "id": "bca08df6"
   },
   "source": [
    "# Label Encoding with Label mapping \n",
    "\n",
    "No Need just see"
   ]
  },
  {
   "cell_type": "code",
   "execution_count": 32,
   "id": "1ce2edbe",
   "metadata": {
    "colab": {
     "base_uri": "https://localhost:8080/"
    },
    "executionInfo": {
     "elapsed": 174,
     "status": "ok",
     "timestamp": 1728334172038,
     "user": {
      "displayName": "Kamrul Hasan - SE",
      "userId": "17384571876487677959"
     },
     "user_tz": 240
    },
    "id": "1ce2edbe",
    "outputId": "f17124ba-a402-4b07-dff4-e5a0be2ec7fe"
   },
   "outputs": [
    {
     "data": {
      "text/plain": [
       "array(['Dhaka', 'Ctg', 'Rangpur'], dtype=object)"
      ]
     },
     "execution_count": 32,
     "metadata": {},
     "output_type": "execute_result"
    }
   ],
   "source": [
    "df.Area.unique()   "
   ]
  },
  {
   "cell_type": "code",
   "execution_count": 33,
   "id": "0c24304f",
   "metadata": {
    "id": "0c24304f"
   },
   "outputs": [],
   "source": [
    "label_mapping = {\n",
    "    'Dhaka': 1,\n",
    "    'Rangpur': 2,\n",
    "    'Ctg': 0\n",
    "}"
   ]
  },
  {
   "cell_type": "code",
   "execution_count": 34,
   "id": "d8945735",
   "metadata": {
    "colab": {
     "base_uri": "https://localhost:8080/"
    },
    "executionInfo": {
     "elapsed": 305,
     "status": "ok",
     "timestamp": 1728334186390,
     "user": {
      "displayName": "Kamrul Hasan - SE",
      "userId": "17384571876487677959"
     },
     "user_tz": 240
    },
    "id": "d8945735",
    "outputId": "1b1f6107-00e8-4c9f-eb24-ecdc4d9b1056"
   },
   "outputs": [
    {
     "data": {
      "text/plain": [
       "{'Dhaka': 1, 'Rangpur': 2, 'Ctg': 0}"
      ]
     },
     "execution_count": 34,
     "metadata": {},
     "output_type": "execute_result"
    }
   ],
   "source": [
    "label_mapping"
   ]
  },
  {
   "cell_type": "code",
   "execution_count": 35,
   "id": "41215c6b",
   "metadata": {
    "colab": {
     "base_uri": "https://localhost:8080/"
    },
    "executionInfo": {
     "elapsed": 219,
     "status": "ok",
     "timestamp": 1728334189210,
     "user": {
      "displayName": "Kamrul Hasan - SE",
      "userId": "17384571876487677959"
     },
     "user_tz": 240
    },
    "id": "41215c6b",
    "outputId": "6509e697-402f-4f19-cd02-a1903227bca2"
   },
   "outputs": [
    {
     "data": {
      "text/plain": [
       "dict_keys(['Dhaka', 'Rangpur', 'Ctg'])"
      ]
     },
     "execution_count": 35,
     "metadata": {},
     "output_type": "execute_result"
    }
   ],
   "source": [
    "label_mapping.keys()"
   ]
  },
  {
   "cell_type": "code",
   "execution_count": 36,
   "id": "a7c9f0c6",
   "metadata": {
    "colab": {
     "base_uri": "https://localhost:8080/"
    },
    "executionInfo": {
     "elapsed": 206,
     "status": "ok",
     "timestamp": 1728334192127,
     "user": {
      "displayName": "Kamrul Hasan - SE",
      "userId": "17384571876487677959"
     },
     "user_tz": 240
    },
    "id": "a7c9f0c6",
    "outputId": "ee9dc4d9-66f6-427d-a15f-911a40ad6ab1"
   },
   "outputs": [
    {
     "data": {
      "text/plain": [
       "dict_values([1, 2, 0])"
      ]
     },
     "execution_count": 36,
     "metadata": {},
     "output_type": "execute_result"
    }
   ],
   "source": [
    "label_mapping.values()"
   ]
  },
  {
   "cell_type": "code",
   "execution_count": 37,
   "id": "c5bfaf63",
   "metadata": {
    "id": "c5bfaf63"
   },
   "outputs": [],
   "source": [
    "df2.Area = [label_mapping[area] for area in df2.Area] #List comprehension"
   ]
  },
  {
   "cell_type": "code",
   "execution_count": 38,
   "id": "44c8cf71",
   "metadata": {
    "colab": {
     "base_uri": "https://localhost:8080/",
     "height": 206
    },
    "executionInfo": {
     "elapsed": 196,
     "status": "ok",
     "timestamp": 1728334207292,
     "user": {
      "displayName": "Kamrul Hasan - SE",
      "userId": "17384571876487677959"
     },
     "user_tz": 240
    },
    "id": "44c8cf71",
    "outputId": "55546395-88fc-4b90-b077-9f9e354fa6b1"
   },
   "outputs": [
    {
     "data": {
      "text/html": [
       "<div>\n",
       "<style scoped>\n",
       "    .dataframe tbody tr th:only-of-type {\n",
       "        vertical-align: middle;\n",
       "    }\n",
       "\n",
       "    .dataframe tbody tr th {\n",
       "        vertical-align: top;\n",
       "    }\n",
       "\n",
       "    .dataframe thead th {\n",
       "        text-align: right;\n",
       "    }\n",
       "</style>\n",
       "<table border=\"1\" class=\"dataframe\">\n",
       "  <thead>\n",
       "    <tr style=\"text-align: right;\">\n",
       "      <th></th>\n",
       "      <th>Marketing Spend</th>\n",
       "      <th>Administration</th>\n",
       "      <th>Transport</th>\n",
       "      <th>Area</th>\n",
       "      <th>Profit</th>\n",
       "    </tr>\n",
       "  </thead>\n",
       "  <tbody>\n",
       "    <tr>\n",
       "      <th>0</th>\n",
       "      <td>114523.61</td>\n",
       "      <td>136897.80</td>\n",
       "      <td>471784.10</td>\n",
       "      <td>1</td>\n",
       "      <td>192261.83</td>\n",
       "    </tr>\n",
       "    <tr>\n",
       "      <th>1</th>\n",
       "      <td>162597.70</td>\n",
       "      <td>151377.59</td>\n",
       "      <td>443898.53</td>\n",
       "      <td>0</td>\n",
       "      <td>191792.06</td>\n",
       "    </tr>\n",
       "    <tr>\n",
       "      <th>2</th>\n",
       "      <td>153441.51</td>\n",
       "      <td>101145.55</td>\n",
       "      <td>407934.54</td>\n",
       "      <td>2</td>\n",
       "      <td>191050.39</td>\n",
       "    </tr>\n",
       "    <tr>\n",
       "      <th>3</th>\n",
       "      <td>144372.41</td>\n",
       "      <td>118671.85</td>\n",
       "      <td>383199.62</td>\n",
       "      <td>1</td>\n",
       "      <td>182901.99</td>\n",
       "    </tr>\n",
       "    <tr>\n",
       "      <th>4</th>\n",
       "      <td>142107.34</td>\n",
       "      <td>91391.77</td>\n",
       "      <td>366168.42</td>\n",
       "      <td>2</td>\n",
       "      <td>166187.94</td>\n",
       "    </tr>\n",
       "  </tbody>\n",
       "</table>\n",
       "</div>"
      ],
      "text/plain": [
       "   Marketing Spend  Administration  Transport  Area     Profit\n",
       "0        114523.61       136897.80  471784.10     1  192261.83\n",
       "1        162597.70       151377.59  443898.53     0  191792.06\n",
       "2        153441.51       101145.55  407934.54     2  191050.39\n",
       "3        144372.41       118671.85  383199.62     1  182901.99\n",
       "4        142107.34        91391.77  366168.42     2  166187.94"
      ]
     },
     "execution_count": 38,
     "metadata": {},
     "output_type": "execute_result"
    }
   ],
   "source": [
    "df2.head()"
   ]
  },
  {
   "cell_type": "code",
   "execution_count": 39,
   "id": "8954aa92",
   "metadata": {
    "colab": {
     "base_uri": "https://localhost:8080/",
     "height": 206
    },
    "executionInfo": {
     "elapsed": 240,
     "status": "ok",
     "timestamp": 1728334213842,
     "user": {
      "displayName": "Kamrul Hasan - SE",
      "userId": "17384571876487677959"
     },
     "user_tz": 240
    },
    "id": "8954aa92",
    "outputId": "4c2b133a-afd2-402e-b4ad-92ca60e2b137"
   },
   "outputs": [
    {
     "data": {
      "text/html": [
       "<div>\n",
       "<style scoped>\n",
       "    .dataframe tbody tr th:only-of-type {\n",
       "        vertical-align: middle;\n",
       "    }\n",
       "\n",
       "    .dataframe tbody tr th {\n",
       "        vertical-align: top;\n",
       "    }\n",
       "\n",
       "    .dataframe thead th {\n",
       "        text-align: right;\n",
       "    }\n",
       "</style>\n",
       "<table border=\"1\" class=\"dataframe\">\n",
       "  <thead>\n",
       "    <tr style=\"text-align: right;\">\n",
       "      <th></th>\n",
       "      <th>Marketing Spend</th>\n",
       "      <th>Administration</th>\n",
       "      <th>Transport</th>\n",
       "      <th>Area</th>\n",
       "      <th>Profit</th>\n",
       "    </tr>\n",
       "  </thead>\n",
       "  <tbody>\n",
       "    <tr>\n",
       "      <th>0</th>\n",
       "      <td>114523.61</td>\n",
       "      <td>136897.80</td>\n",
       "      <td>471784.10</td>\n",
       "      <td>Dhaka</td>\n",
       "      <td>192261.83</td>\n",
       "    </tr>\n",
       "    <tr>\n",
       "      <th>1</th>\n",
       "      <td>162597.70</td>\n",
       "      <td>151377.59</td>\n",
       "      <td>443898.53</td>\n",
       "      <td>Ctg</td>\n",
       "      <td>191792.06</td>\n",
       "    </tr>\n",
       "    <tr>\n",
       "      <th>2</th>\n",
       "      <td>153441.51</td>\n",
       "      <td>101145.55</td>\n",
       "      <td>407934.54</td>\n",
       "      <td>Rangpur</td>\n",
       "      <td>191050.39</td>\n",
       "    </tr>\n",
       "    <tr>\n",
       "      <th>3</th>\n",
       "      <td>144372.41</td>\n",
       "      <td>118671.85</td>\n",
       "      <td>383199.62</td>\n",
       "      <td>Dhaka</td>\n",
       "      <td>182901.99</td>\n",
       "    </tr>\n",
       "    <tr>\n",
       "      <th>4</th>\n",
       "      <td>142107.34</td>\n",
       "      <td>91391.77</td>\n",
       "      <td>366168.42</td>\n",
       "      <td>Rangpur</td>\n",
       "      <td>166187.94</td>\n",
       "    </tr>\n",
       "  </tbody>\n",
       "</table>\n",
       "</div>"
      ],
      "text/plain": [
       "   Marketing Spend  Administration  Transport     Area     Profit\n",
       "0        114523.61       136897.80  471784.10    Dhaka  192261.83\n",
       "1        162597.70       151377.59  443898.53      Ctg  191792.06\n",
       "2        153441.51       101145.55  407934.54  Rangpur  191050.39\n",
       "3        144372.41       118671.85  383199.62    Dhaka  182901.99\n",
       "4        142107.34        91391.77  366168.42  Rangpur  166187.94"
      ]
     },
     "execution_count": 39,
     "metadata": {},
     "output_type": "execute_result"
    }
   ],
   "source": [
    "df3.head()"
   ]
  },
  {
   "cell_type": "markdown",
   "id": "817e8772",
   "metadata": {
    "id": "817e8772"
   },
   "source": [
    "# Replace Method"
   ]
  },
  {
   "cell_type": "code",
   "execution_count": 40,
   "id": "1222d5af",
   "metadata": {
    "id": "1222d5af"
   },
   "outputs": [],
   "source": [
    "df3['Area'] = df3['Area'].replace(label_mapping)"
   ]
  },
  {
   "cell_type": "code",
   "execution_count": 41,
   "id": "623abed7",
   "metadata": {
    "colab": {
     "base_uri": "https://localhost:8080/",
     "height": 206
    },
    "executionInfo": {
     "elapsed": 208,
     "status": "ok",
     "timestamp": 1728334226454,
     "user": {
      "displayName": "Kamrul Hasan - SE",
      "userId": "17384571876487677959"
     },
     "user_tz": 240
    },
    "id": "623abed7",
    "outputId": "65b8c114-318d-43ca-cd00-209b5ff2256d"
   },
   "outputs": [
    {
     "data": {
      "text/html": [
       "<div>\n",
       "<style scoped>\n",
       "    .dataframe tbody tr th:only-of-type {\n",
       "        vertical-align: middle;\n",
       "    }\n",
       "\n",
       "    .dataframe tbody tr th {\n",
       "        vertical-align: top;\n",
       "    }\n",
       "\n",
       "    .dataframe thead th {\n",
       "        text-align: right;\n",
       "    }\n",
       "</style>\n",
       "<table border=\"1\" class=\"dataframe\">\n",
       "  <thead>\n",
       "    <tr style=\"text-align: right;\">\n",
       "      <th></th>\n",
       "      <th>Marketing Spend</th>\n",
       "      <th>Administration</th>\n",
       "      <th>Transport</th>\n",
       "      <th>Area</th>\n",
       "      <th>Profit</th>\n",
       "    </tr>\n",
       "  </thead>\n",
       "  <tbody>\n",
       "    <tr>\n",
       "      <th>0</th>\n",
       "      <td>114523.61</td>\n",
       "      <td>136897.80</td>\n",
       "      <td>471784.10</td>\n",
       "      <td>1</td>\n",
       "      <td>192261.83</td>\n",
       "    </tr>\n",
       "    <tr>\n",
       "      <th>1</th>\n",
       "      <td>162597.70</td>\n",
       "      <td>151377.59</td>\n",
       "      <td>443898.53</td>\n",
       "      <td>0</td>\n",
       "      <td>191792.06</td>\n",
       "    </tr>\n",
       "    <tr>\n",
       "      <th>2</th>\n",
       "      <td>153441.51</td>\n",
       "      <td>101145.55</td>\n",
       "      <td>407934.54</td>\n",
       "      <td>2</td>\n",
       "      <td>191050.39</td>\n",
       "    </tr>\n",
       "    <tr>\n",
       "      <th>3</th>\n",
       "      <td>144372.41</td>\n",
       "      <td>118671.85</td>\n",
       "      <td>383199.62</td>\n",
       "      <td>1</td>\n",
       "      <td>182901.99</td>\n",
       "    </tr>\n",
       "    <tr>\n",
       "      <th>4</th>\n",
       "      <td>142107.34</td>\n",
       "      <td>91391.77</td>\n",
       "      <td>366168.42</td>\n",
       "      <td>2</td>\n",
       "      <td>166187.94</td>\n",
       "    </tr>\n",
       "  </tbody>\n",
       "</table>\n",
       "</div>"
      ],
      "text/plain": [
       "   Marketing Spend  Administration  Transport  Area     Profit\n",
       "0        114523.61       136897.80  471784.10     1  192261.83\n",
       "1        162597.70       151377.59  443898.53     0  191792.06\n",
       "2        153441.51       101145.55  407934.54     2  191050.39\n",
       "3        144372.41       118671.85  383199.62     1  182901.99\n",
       "4        142107.34        91391.77  366168.42     2  166187.94"
      ]
     },
     "execution_count": 41,
     "metadata": {},
     "output_type": "execute_result"
    }
   ],
   "source": [
    "df3.head()"
   ]
  },
  {
   "cell_type": "markdown",
   "id": "0162af03",
   "metadata": {
    "id": "0162af03"
   },
   "source": [
    "# One Hot Encoder"
   ]
  },
  {
   "cell_type": "code",
   "execution_count": null,
   "id": "e73597a8",
   "metadata": {
    "colab": {
     "base_uri": "https://localhost:8080/",
     "height": 206
    },
    "executionInfo": {
     "elapsed": 240,
     "status": "ok",
     "timestamp": 1728334233685,
     "user": {
      "displayName": "Kamrul Hasan - SE",
      "userId": "17384571876487677959"
     },
     "user_tz": 240
    },
    "id": "e73597a8",
    "outputId": "b3b5d56d-dd6c-4986-bcd1-d55cc3775c20"
   },
   "outputs": [],
   "source": [
    "df4.head()"
   ]
  },
  {
   "cell_type": "code",
   "execution_count": null,
   "id": "7a04c7b3",
   "metadata": {
    "colab": {
     "base_uri": "https://localhost:8080/",
     "height": 206
    },
    "executionInfo": {
     "elapsed": 236,
     "status": "ok",
     "timestamp": 1728334237938,
     "user": {
      "displayName": "Kamrul Hasan - SE",
      "userId": "17384571876487677959"
     },
     "user_tz": 240
    },
    "id": "7a04c7b3",
    "outputId": "a972da3b-537f-4f9e-eaed-fe96f4ce8f05"
   },
   "outputs": [],
   "source": [
    "pd.get_dummies(df4['Area']).head()"
   ]
  },
  {
   "cell_type": "code",
   "execution_count": null,
   "id": "3498fcee",
   "metadata": {
    "colab": {
     "base_uri": "https://localhost:8080/",
     "height": 206
    },
    "executionInfo": {
     "elapsed": 221,
     "status": "ok",
     "timestamp": 1728334254407,
     "user": {
      "displayName": "Kamrul Hasan - SE",
      "userId": "17384571876487677959"
     },
     "user_tz": 240
    },
    "id": "3498fcee",
    "outputId": "221b1c7d-faaf-441c-ccbc-7840d3e63d28"
   },
   "outputs": [],
   "source": [
    "pd.get_dummies(df4['Area'], drop_first=True).head() #dummy var trap"
   ]
  },
  {
   "cell_type": "code",
   "execution_count": null,
   "id": "5070875b",
   "metadata": {
    "colab": {
     "base_uri": "https://localhost:8080/",
     "height": 206
    },
    "executionInfo": {
     "elapsed": 189,
     "status": "ok",
     "timestamp": 1728334262410,
     "user": {
      "displayName": "Kamrul Hasan - SE",
      "userId": "17384571876487677959"
     },
     "user_tz": 240
    },
    "id": "5070875b",
    "outputId": "ee295a75-6897-41d8-e417-2b425ce64095"
   },
   "outputs": [],
   "source": [
    "pd.get_dummies(df4['Area'], drop_first=True, prefix='Area').head()"
   ]
  },
  {
   "cell_type": "code",
   "execution_count": null,
   "id": "429abfb6",
   "metadata": {
    "id": "429abfb6"
   },
   "outputs": [],
   "source": [
    "dummy = pd.get_dummies(df4['Area'], drop_first=True, prefix='Area', prefix_sep=' ' )"
   ]
  },
  {
   "cell_type": "code",
   "execution_count": null,
   "id": "f0f3bcc1",
   "metadata": {
    "colab": {
     "base_uri": "https://localhost:8080/",
     "height": 206
    },
    "executionInfo": {
     "elapsed": 197,
     "status": "ok",
     "timestamp": 1728334268901,
     "user": {
      "displayName": "Kamrul Hasan - SE",
      "userId": "17384571876487677959"
     },
     "user_tz": 240
    },
    "id": "f0f3bcc1",
    "outputId": "642f0f43-df76-40ed-8f54-26fafbdd5629"
   },
   "outputs": [],
   "source": [
    "dummy.head()"
   ]
  },
  {
   "cell_type": "code",
   "execution_count": null,
   "id": "16352b44",
   "metadata": {
    "colab": {
     "base_uri": "https://localhost:8080/",
     "height": 206
    },
    "executionInfo": {
     "elapsed": 315,
     "status": "ok",
     "timestamp": 1728434794465,
     "user": {
      "displayName": "shariar nabil",
      "userId": "13055531375433852657"
     },
     "user_tz": -60
    },
    "id": "16352b44",
    "outputId": "8d7ca964-966c-4d09-d0e9-8bc5824276ab"
   },
   "outputs": [],
   "source": [
    "df4.head()"
   ]
  },
  {
   "cell_type": "code",
   "execution_count": null,
   "id": "Niv78fDlvezs",
   "metadata": {
    "colab": {
     "base_uri": "https://localhost:8080/",
     "height": 241
    },
    "executionInfo": {
     "elapsed": 294,
     "status": "ok",
     "timestamp": 1728434876407,
     "user": {
      "displayName": "shariar nabil",
      "userId": "13055531375433852657"
     },
     "user_tz": -60
    },
    "id": "Niv78fDlvezs",
    "outputId": "677d6c70-3e54-4b24-98cc-8ac4ca1c2dbd"
   },
   "outputs": [],
   "source": [
    "df.isnull().sum()"
   ]
  },
  {
   "cell_type": "code",
   "execution_count": null,
   "id": "p5JINezuvhy4",
   "metadata": {
    "colab": {
     "base_uri": "https://localhost:8080/",
     "height": 143
    },
    "executionInfo": {
     "elapsed": 269,
     "status": "ok",
     "timestamp": 1728434912118,
     "user": {
      "displayName": "shariar nabil",
      "userId": "13055531375433852657"
     },
     "user_tz": -60
    },
    "id": "p5JINezuvhy4",
    "outputId": "357b959c-d2bc-45cb-8b5c-26e8f9a00997"
   },
   "outputs": [],
   "source": [
    "df[18:21]"
   ]
  },
  {
   "cell_type": "code",
   "execution_count": null,
   "id": "lcyH8S8OwP87",
   "metadata": {
    "colab": {
     "base_uri": "https://localhost:8080/"
    },
    "executionInfo": {
     "elapsed": 302,
     "status": "ok",
     "timestamp": 1728435087421,
     "user": {
      "displayName": "shariar nabil",
      "userId": "13055531375433852657"
     },
     "user_tz": -60
    },
    "id": "lcyH8S8OwP87",
    "outputId": "67f1dfce-baf1-41bc-9743-30ef775b92fb"
   },
   "outputs": [],
   "source": [
    "mean=df.Transport.mean()\n",
    "mean"
   ]
  },
  {
   "cell_type": "code",
   "execution_count": null,
   "id": "e-j5-1mYwjy0",
   "metadata": {
    "id": "e-j5-1mYwjy0"
   },
   "outputs": [],
   "source": [
    "df.Transport=df.Transport.fillna(mean)"
   ]
  },
  {
   "cell_type": "code",
   "execution_count": null,
   "id": "7VL8QRSQwuDP",
   "metadata": {
    "colab": {
     "base_uri": "https://localhost:8080/",
     "height": 241
    },
    "executionInfo": {
     "elapsed": 264,
     "status": "ok",
     "timestamp": 1728435128561,
     "user": {
      "displayName": "shariar nabil",
      "userId": "13055531375433852657"
     },
     "user_tz": -60
    },
    "id": "7VL8QRSQwuDP",
    "outputId": "09c53bcc-ce6a-44cd-f66e-1127fbbe7022"
   },
   "outputs": [],
   "source": [
    "df.isnull().sum()"
   ]
  },
  {
   "cell_type": "code",
   "execution_count": null,
   "id": "TBjXOZgYwwYw",
   "metadata": {
    "colab": {
     "base_uri": "https://localhost:8080/",
     "height": 206
    },
    "executionInfo": {
     "elapsed": 300,
     "status": "ok",
     "timestamp": 1728435547236,
     "user": {
      "displayName": "shariar nabil",
      "userId": "13055531375433852657"
     },
     "user_tz": -60
    },
    "id": "TBjXOZgYwwYw",
    "outputId": "527e77f6-342c-437c-e4ff-fd159f2074a8"
   },
   "outputs": [],
   "source": [
    "df.head()"
   ]
  },
  {
   "cell_type": "code",
   "execution_count": null,
   "id": "uHf_jD0TyWlt",
   "metadata": {
    "id": "uHf_jD0TyWlt"
   },
   "outputs": [],
   "source": [
    "from sklearn.preprocessing import LabelEncoder\n",
    "le=LabelEncoder()"
   ]
  },
  {
   "cell_type": "code",
   "execution_count": null,
   "id": "8Gh38qDXyXur",
   "metadata": {
    "id": "8Gh38qDXyXur"
   },
   "outputs": [],
   "source": [
    "df.Area=le.fit_transform(df[['Area']])"
   ]
  },
  {
   "cell_type": "code",
   "execution_count": null,
   "id": "BB_b3trmyX5Q",
   "metadata": {
    "colab": {
     "base_uri": "https://localhost:8080/",
     "height": 206
    },
    "executionInfo": {
     "elapsed": 293,
     "status": "ok",
     "timestamp": 1728435630492,
     "user": {
      "displayName": "shariar nabil",
      "userId": "13055531375433852657"
     },
     "user_tz": -60
    },
    "id": "BB_b3trmyX5Q",
    "outputId": "ea68bc96-d4f8-4315-e890-eac54805711b"
   },
   "outputs": [],
   "source": [
    "df.head()"
   ]
  },
  {
   "cell_type": "code",
   "execution_count": null,
   "id": "lTVbURn8y5y2",
   "metadata": {
    "colab": {
     "base_uri": "https://localhost:8080/"
    },
    "executionInfo": {
     "elapsed": 295,
     "status": "ok",
     "timestamp": 1728435862940,
     "user": {
      "displayName": "shariar nabil",
      "userId": "13055531375433852657"
     },
     "user_tz": -60
    },
    "id": "lTVbURn8y5y2",
    "outputId": "ececf431-7c3b-4fec-ccdb-ae336c3260fb"
   },
   "outputs": [],
   "source": [
    "df.Area.unique()"
   ]
  },
  {
   "cell_type": "code",
   "execution_count": null,
   "id": "fASj4q9iy56x",
   "metadata": {
    "id": "fASj4q9iy56x"
   },
   "outputs": [],
   "source": [
    "label_mapping = {\n",
    "    'Dhaka': 1,\n",
    "    'Rangpur': 2,\n",
    "    'Ctg': 0\n",
    "}"
   ]
  },
  {
   "cell_type": "code",
   "execution_count": null,
   "id": "K3ag67BSy5_H",
   "metadata": {
    "id": "K3ag67BSy5_H"
   },
   "outputs": [],
   "source": [
    "df2.Area = [label_mapping[area] for area in df2.Area]"
   ]
  },
  {
   "cell_type": "code",
   "execution_count": null,
   "id": "tliI7Yssy6Cl",
   "metadata": {
    "colab": {
     "base_uri": "https://localhost:8080/",
     "height": 206
    },
    "executionInfo": {
     "elapsed": 294,
     "status": "ok",
     "timestamp": 1728435901104,
     "user": {
      "displayName": "shariar nabil",
      "userId": "13055531375433852657"
     },
     "user_tz": -60
    },
    "id": "tliI7Yssy6Cl",
    "outputId": "d661c1c0-27ff-4eb4-b2c6-36873ddb8587"
   },
   "outputs": [],
   "source": [
    "df2.head()"
   ]
  },
  {
   "cell_type": "code",
   "execution_count": null,
   "id": "TLqjEk0fy6Ma",
   "metadata": {
    "colab": {
     "base_uri": "https://localhost:8080/",
     "height": 206
    },
    "executionInfo": {
     "elapsed": 418,
     "status": "ok",
     "timestamp": 1728435950249,
     "user": {
      "displayName": "shariar nabil",
      "userId": "13055531375433852657"
     },
     "user_tz": -60
    },
    "id": "TLqjEk0fy6Ma",
    "outputId": "eb411361-adbc-42e1-c728-2ac40627fca2"
   },
   "outputs": [],
   "source": [
    "df3.Area = df3.Area.replace(label_mapping)\n",
    "df3.head()"
   ]
  },
  {
   "cell_type": "code",
   "execution_count": null,
   "id": "gRKLNuaey6QT",
   "metadata": {
    "colab": {
     "base_uri": "https://localhost:8080/",
     "height": 206
    },
    "executionInfo": {
     "elapsed": 578,
     "status": "ok",
     "timestamp": 1728436322660,
     "user": {
      "displayName": "shariar nabil",
      "userId": "13055531375433852657"
     },
     "user_tz": -60
    },
    "id": "gRKLNuaey6QT",
    "outputId": "92407d61-4864-4145-f88b-9c42a4712d03"
   },
   "outputs": [],
   "source": [
    "df4.head()"
   ]
  },
  {
   "cell_type": "code",
   "execution_count": null,
   "id": "7m7wwT_u0hIL",
   "metadata": {
    "id": "7m7wwT_u0hIL"
   },
   "outputs": [],
   "source": [
    "dummy=pd.get_dummies(df['Area']).head()"
   ]
  },
  {
   "cell_type": "code",
   "execution_count": null,
   "id": "3LQn6YnK0hW9",
   "metadata": {
    "colab": {
     "base_uri": "https://localhost:8080/",
     "height": 206
    },
    "executionInfo": {
     "elapsed": 281,
     "status": "ok",
     "timestamp": 1728436397390,
     "user": {
      "displayName": "shariar nabil",
      "userId": "13055531375433852657"
     },
     "user_tz": -60
    },
    "id": "3LQn6YnK0hW9",
    "outputId": "fe928d4d-62e7-4fa7-a219-cb9151d89b95"
   },
   "outputs": [],
   "source": [
    "dummy.head()"
   ]
  },
  {
   "cell_type": "code",
   "execution_count": null,
   "id": "Cid36Hzby6eC",
   "metadata": {
    "id": "Cid36Hzby6eC"
   },
   "outputs": [],
   "source": [
    "new_d4=pd.concat([df4,dummy],axis=1)"
   ]
  },
  {
   "cell_type": "code",
   "execution_count": null,
   "id": "N5B9mtv6yX_4",
   "metadata": {
    "colab": {
     "base_uri": "https://localhost:8080/",
     "height": 206
    },
    "executionInfo": {
     "elapsed": 347,
     "status": "ok",
     "timestamp": 1728436474484,
     "user": {
      "displayName": "shariar nabil",
      "userId": "13055531375433852657"
     },
     "user_tz": -60
    },
    "id": "N5B9mtv6yX_4",
    "outputId": "3dbed3ef-4aec-4910-c9d3-11f8ef0a9ba2"
   },
   "outputs": [],
   "source": [
    "new_d4.head()"
   ]
  },
  {
   "cell_type": "code",
   "execution_count": null,
   "id": "Q4WzSy8ryYNw",
   "metadata": {
    "id": "Q4WzSy8ryYNw"
   },
   "outputs": [],
   "source": [
    "from sklearn.preprocessing import LabelBinarizer"
   ]
  },
  {
   "cell_type": "code",
   "execution_count": null,
   "id": "P0WzwclSyYRj",
   "metadata": {
    "id": "P0WzwclSyYRj"
   },
   "outputs": [],
   "source": [
    "lb=LabelBinarizer()\n",
    "area_encoded=lb.fit_transform(df['Area'])"
   ]
  },
  {
   "cell_type": "code",
   "execution_count": null,
   "id": "9-FvsqLj2TOA",
   "metadata": {
    "colab": {
     "base_uri": "https://localhost:8080/",
     "height": 1000
    },
    "executionInfo": {
     "elapsed": 301,
     "status": "ok",
     "timestamp": 1728436597879,
     "user": {
      "displayName": "shariar nabil",
      "userId": "13055531375433852657"
     },
     "user_tz": -60
    },
    "id": "9-FvsqLj2TOA",
    "outputId": "a88ddae6-b3de-4392-d09b-70c2b23d2d58"
   },
   "outputs": [],
   "source": [
    "area_encoded_df=pd.DataFrame(area_encoded,columns=lb.classes_)\n",
    "area_encoded_df"
   ]
  },
  {
   "cell_type": "code",
   "execution_count": null,
   "id": "oxYTJpan2XGf",
   "metadata": {
    "colab": {
     "base_uri": "https://localhost:8080/"
    },
    "executionInfo": {
     "elapsed": 294,
     "status": "ok",
     "timestamp": 1728436612025,
     "user": {
      "displayName": "shariar nabil",
      "userId": "13055531375433852657"
     },
     "user_tz": -60
    },
    "id": "oxYTJpan2XGf",
    "outputId": "9afec6bd-a13d-44a6-cfa5-5df8a4858c34"
   },
   "outputs": [],
   "source": [
    "lb.classes_"
   ]
  },
  {
   "cell_type": "code",
   "execution_count": null,
   "id": "9okZsVZ12ajr",
   "metadata": {
    "colab": {
     "base_uri": "https://localhost:8080/",
     "height": 206
    },
    "executionInfo": {
     "elapsed": 273,
     "status": "ok",
     "timestamp": 1728436670206,
     "user": {
      "displayName": "shariar nabil",
      "userId": "13055531375433852657"
     },
     "user_tz": -60
    },
    "id": "9okZsVZ12ajr",
    "outputId": "7ca19e1f-cd17-46c9-e0e1-f26daca5311f"
   },
   "outputs": [],
   "source": [
    "area_encoded_df=area_encoded_df.drop('Ctg',axis=1)\n",
    "area_encoded_df.head()"
   ]
  },
  {
   "cell_type": "code",
   "execution_count": null,
   "id": "Eg7vbSul2gTM",
   "metadata": {
    "colab": {
     "base_uri": "https://localhost:8080/"
    },
    "executionInfo": {
     "elapsed": 283,
     "status": "ok",
     "timestamp": 1728436742923,
     "user": {
      "displayName": "shariar nabil",
      "userId": "13055531375433852657"
     },
     "user_tz": -60
    },
    "id": "Eg7vbSul2gTM",
    "outputId": "4a991201-8ca6-4953-b46e-975f3eb6595d"
   },
   "outputs": [],
   "source": [
    "df6.Area.unique()"
   ]
  },
  {
   "cell_type": "code",
   "execution_count": null,
   "id": "VYu7ZylZ2gXB",
   "metadata": {
    "id": "VYu7ZylZ2gXB"
   },
   "outputs": [],
   "source": [
    "from sklearn.preprocessing import OrdinalEncoder"
   ]
  },
  {
   "cell_type": "code",
   "execution_count": null,
   "id": "Qeel6yzr2gac",
   "metadata": {
    "colab": {
     "base_uri": "https://localhost:8080/",
     "height": 80
    },
    "executionInfo": {
     "elapsed": 287,
     "status": "ok",
     "timestamp": 1728436925700,
     "user": {
      "displayName": "shariar nabil",
      "userId": "13055531375433852657"
     },
     "user_tz": -60
    },
    "id": "Qeel6yzr2gac",
    "outputId": "a3fd1103-3cdd-43af-8052-ce66f4e199b1"
   },
   "outputs": [],
   "source": [
    "ordinal=OrdinalEncoder(categories=[['Dhaka', 'Rangpur','Ctg']])\n",
    "ordinal"
   ]
  },
  {
   "cell_type": "code",
   "execution_count": null,
   "id": "oETp3Gwe3Sfg",
   "metadata": {
    "id": "oETp3Gwe3Sfg"
   },
   "outputs": [],
   "source": [
    "df6.Area=ordinal.fit_transform(df5[['Area']])"
   ]
  },
  {
   "cell_type": "code",
   "execution_count": null,
   "id": "MNvIDAWb3Sji",
   "metadata": {
    "colab": {
     "base_uri": "https://localhost:8080/",
     "height": 241
    },
    "executionInfo": {
     "elapsed": 280,
     "status": "ok",
     "timestamp": 1728436960332,
     "user": {
      "displayName": "shariar nabil",
      "userId": "13055531375433852657"
     },
     "user_tz": -60
    },
    "id": "MNvIDAWb3Sji",
    "outputId": "d613f775-ff1e-445c-cd5d-ab83875b08a9"
   },
   "outputs": [],
   "source": [
    "df6.Area.head()"
   ]
  },
  {
   "cell_type": "code",
   "execution_count": null,
   "id": "8TxOETXM2giP",
   "metadata": {
    "colab": {
     "base_uri": "https://localhost:8080/"
    },
    "executionInfo": {
     "elapsed": 306,
     "status": "ok",
     "timestamp": 1728437158766,
     "user": {
      "displayName": "shariar nabil",
      "userId": "13055531375433852657"
     },
     "user_tz": -60
    },
    "id": "8TxOETXM2giP",
    "outputId": "fd008f68-407b-4f56-bd31-0f7f8c660323"
   },
   "outputs": [],
   "source": [
    "frequency=df.groupby('Area').value_counts().to_dict()\n",
    "frequency"
   ]
  },
  {
   "cell_type": "code",
   "execution_count": null,
   "id": "Wk2R0J_B3wV1",
   "metadata": {
    "id": "Wk2R0J_B3wV1"
   },
   "outputs": [],
   "source": []
  },
  {
   "cell_type": "code",
   "execution_count": null,
   "id": "hfMLbZoC3whz",
   "metadata": {
    "id": "hfMLbZoC3whz"
   },
   "outputs": [],
   "source": []
  },
  {
   "cell_type": "code",
   "execution_count": null,
   "id": "rWn3jElf3wqP",
   "metadata": {
    "id": "rWn3jElf3wqP"
   },
   "outputs": [],
   "source": []
  },
  {
   "cell_type": "code",
   "execution_count": null,
   "id": "ZllZaCv52go9",
   "metadata": {
    "id": "ZllZaCv52go9"
   },
   "outputs": [],
   "source": []
  }
 ],
 "metadata": {
  "colab": {
   "provenance": []
  },
  "kernelspec": {
   "display_name": "Python 3 (ipykernel)",
   "language": "python",
   "name": "python3"
  },
  "language_info": {
   "codemirror_mode": {
    "name": "ipython",
    "version": 3
   },
   "file_extension": ".py",
   "mimetype": "text/x-python",
   "name": "python",
   "nbconvert_exporter": "python",
   "pygments_lexer": "ipython3",
   "version": "3.11.4"
  }
 },
 "nbformat": 4,
 "nbformat_minor": 5
}
